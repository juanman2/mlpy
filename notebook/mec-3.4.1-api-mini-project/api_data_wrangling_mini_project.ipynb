{
 "cells": [
  {
   "cell_type": "markdown",
   "metadata": {},
   "source": [
    "This exercise will require you to pull some data from the Qunadl API. Qaundl is currently the most widely used aggregator of financial market data."
   ]
  },
  {
   "cell_type": "markdown",
   "metadata": {},
   "source": [
    "As a first step, you will need to register a free account on the http://www.quandl.com website."
   ]
  },
  {
   "cell_type": "markdown",
   "metadata": {},
   "source": [
    "After you register, you will be provided with a unique API key, that you should store:"
   ]
  },
  {
   "cell_type": "code",
   "execution_count": 1,
   "metadata": {},
   "outputs": [],
   "source": [
    "# Store the API key as a string - according to PEP8, constants are always named in all upper case\n",
    "API_KEY = 'B3aaZK2qsywQxcx2GM1T'"
   ]
  },
  {
   "cell_type": "markdown",
   "metadata": {},
   "source": [
    "Qaundl has a large number of data sources, but, unfortunately, most of them require a Premium subscription. Still, there are also a good number of free datasets."
   ]
  },
  {
   "cell_type": "markdown",
   "metadata": {},
   "source": [
    "For this mini project, we will focus on equities data from the Frankfurt Stock Exhange (FSE), which is available for free. We'll try and analyze the stock prices of a company called Carl Zeiss Meditec, which manufactures tools for eye examinations, as well as medical lasers for laser eye surgery: https://www.zeiss.com/meditec/int/home.html. The company is listed under the stock ticker AFX_X."
   ]
  },
  {
   "cell_type": "markdown",
   "metadata": {},
   "source": [
    "You can find the detailed Quandl API instructions here: https://docs.quandl.com/docs/time-series"
   ]
  },
  {
   "cell_type": "markdown",
   "metadata": {},
   "source": [
    "While there is a dedicated Python package for connecting to the Quandl API, we would prefer that you use the *requests* package, which can be easily downloaded using *pip* or *conda*. You can find the documentation for the package here: http://docs.python-requests.org/en/master/ "
   ]
  },
  {
   "cell_type": "markdown",
   "metadata": {},
   "source": [
    "Finally, apart from the *requests* package, you are encouraged to not use any third party Python packages, such as *pandas*, and instead focus on what's available in the Python Standard Library (the *collections* module might come in handy: https://pymotw.com/3/collections/).\n",
    "Also, since you won't have access to DataFrames, you are encouraged to us Python's native data structures - preferably dictionaries, though some questions can also be answered using lists.\n",
    "You can read more on these data structures here: https://docs.python.org/3/tutorial/datastructures.html"
   ]
  },
  {
   "cell_type": "markdown",
   "metadata": {},
   "source": [
    "Keep in mind that the JSON responses you will be getting from the API map almost one-to-one to Python's dictionaries. Unfortunately, they can be very nested, so make sure you read up on indexing dictionaries in the documentation provided above."
   ]
  },
  {
   "cell_type": "code",
   "execution_count": 2,
   "metadata": {},
   "outputs": [],
   "source": [
    "# First, import the relevant modules\n",
    "import requests\n",
    "import json\n",
    "import time\n",
    "import sys\n",
    "import matplotlib.pyplot as plt\n"
   ]
  },
  {
   "cell_type": "code",
   "execution_count": 3,
   "metadata": {},
   "outputs": [
    {
     "name": "stdout",
     "output_type": "stream",
     "text": [
      "dict_keys(['id', 'dataset_code', 'database_code', 'name', 'description', 'refreshed_at', 'newest_available_date', 'oldest_available_date', 'column_names', 'frequency', 'type', 'premium', 'limit', 'transform', 'column_index', 'start_date', 'end_date', 'data', 'collapse', 'order', 'database_id'])\n",
      "14\n",
      "21\n"
     ]
    }
   ],
   "source": [
    "# Now, call the Quandl API and pull out a small sample of the data (only one day) to get a glimpse\n",
    "# into the JSON structure that will be returned\n",
    "URL=\"https://www.quandl.com/api/v3/datasets/CFTC/0233CV_FO_L_ALL_CR.json?api_key=B3aaZK2qsywQxcx2GM1T&\"\n",
    "parameters = {'start_date': '2020-01-01', 'end_date':'2020-12-31'}\n",
    "response = requests.get(URL, params=parameters)\n",
    "if response.status_code != 200:\n",
    "   raise Exception(\"Response was code \" + str(response.status_code))\n",
    "responseStr = response.text\n",
    "data = json.loads(response.text)\n",
    "\n",
    "print(data['dataset'].keys())\n",
    "type(data['dataset']['data'])\n",
    "print(len(data['dataset']['data']))\n",
    "print(len(data['dataset']))\n"
   ]
  },
  {
   "cell_type": "code",
   "execution_count": 4,
   "metadata": {},
   "outputs": [],
   "source": [
    "# Inspect the JSON structure of the object you created, and take note of how nested it is,\n",
    "# as well as the overall structure\n"
   ]
  },
  {
   "cell_type": "markdown",
   "metadata": {},
   "source": [
    "These are your tasks for this mini project:\n",
    "\n",
    "1. Collect data from the Franfurt Stock Exchange, for the ticker AFX_X, for the whole year 2017 (keep in mind that the date format is YYYY-MM-DD).\n",
    "2. Convert the returned JSON object into a Python dictionary.\n",
    "3. Calculate what the highest and lowest opening prices were for the stock in this period.\n",
    "4. What was the largest change in any one day (based on High and Low price)?\n",
    "5. What was the largest change between any two days (based on Closing Price)?\n",
    "6. What was the average daily trading volume during this year?\n",
    "7. (Optional) What was the median trading volume during this year. (Note: you may need to implement your own function for calculating the median.)"
   ]
  },
  {
   "cell_type": "code",
   "execution_count": 5,
   "metadata": {},
   "outputs": [
    {
     "name": "stdout",
     "output_type": "stream",
     "text": [
      "2020-12-01 81.8 75.3\n",
      "2020-11-24 82.0 74.7\n",
      "2020-11-03 84.2 70.6\n",
      "2020-10-27 87.0 71.9\n",
      "2020-08-04 84.2 72.6\n",
      "2020-07-28 84.2 72.6\n",
      "2020-06-30 82.0 72.5\n",
      "2020-06-23 82.5 74.9\n",
      "2020-03-31 79.5 74.8\n",
      "2020-03-24 81.8 77.3\n",
      "2020-03-03 81.2 70.9\n",
      "2020-02-25 81.9 72.1\n",
      "2020-02-04 76.5 74.8\n",
      "2020-01-28 77.1 75.1\n",
      "Max long in 2020 was: 87.00\n",
      "Min long in 2020 was: 76.50\n",
      "Max short in 2020 was: 77.30\n",
      "Min short in 2020 was: 70.60\n",
      "Max differential in 2020 was: 15.10\n",
      "Min differential in 2020 was: 1.70\n",
      "Ave differential in 2020 was: 8.27\n",
      "14\n"
     ]
    }
   ],
   "source": [
    "\n",
    "smin = sys.float_info.max\n",
    "lmin = sys.float_info.max\n",
    "dmin = sys.float_info.max\n",
    "\n",
    "smax = 0.0\n",
    "lmax = 0.0\n",
    "dmax = 0.0\n",
    "\n",
    "dsum = 0.0\n",
    "dlist = []\n",
    "\n",
    "for d in data['dataset']['data']:\n",
    "    smin = min(smin, d[2])\n",
    "    smax = max(smax, d[2])\n",
    "    lmin = min(lmin, d[1])\n",
    "    lmax = max(lmax, d[1])\n",
    "    \n",
    "    dif = abs(d[1]-d[2])\n",
    "    dmax = max(dmax, dif)\n",
    "    dmin = min(dmin, dif)\n",
    "    dsum += dif\n",
    "    dlist.append(dif)\n",
    "    \n",
    "    print(d[0], d[1], d[2]) \n",
    "\n",
    "ave_dif = dsum / len(data['dataset']['data'])\n",
    "print(\"Max long in 2020 was: {:.2f}\".format(lmax))\n",
    "print(\"Min long in 2020 was: {:.2f}\".format(lmin))\n",
    "print(\"Max short in 2020 was: {:.2f}\".format(smax))\n",
    "print(\"Min short in 2020 was: {:.2f}\".format(smin))\n",
    "print(\"Max differential in 2020 was: {:.2f}\".format(dmax))\n",
    "print(\"Min differential in 2020 was: {:.2f}\".format(dmin))\n",
    "print(\"Ave differential in 2020 was: {:.2f}\".format(ave_dif))\n",
    "\n",
    "print(len(dlist))\n"
   ]
  },
  {
   "cell_type": "code",
   "execution_count": 6,
   "metadata": {},
   "outputs": [
    {
     "name": "stdout",
     "output_type": "stream",
     "text": [
      "1.70\n",
      "2.00\n",
      "4.50\n",
      "4.70\n",
      "6.50\n",
      "7.30\n",
      "7.60\n",
      "9.50\n",
      "9.80\n",
      "10.30\n",
      "11.60\n",
      "11.60\n",
      "13.60\n",
      "15.10\n"
     ]
    },
    {
     "data": {
      "text/plain": [
       "8.549999999999997"
      ]
     },
     "execution_count": 6,
     "metadata": {},
     "output_type": "execute_result"
    }
   ],
   "source": [
    "def median(dlist):\n",
    "    for i in dlist:\n",
    "        print(\"{:.2f}\".format(i))\n",
    "        \n",
    "    if len(dlist)%2 == 0: # even\n",
    "        h = int(len(dlist)/2)\n",
    "        return (dlist[h-1]+dlist[h])/2\n",
    "    else:\n",
    "        return (dlist[int(len(dlist)/2) + 1])\n",
    "\n",
    "median_d = median(sorted(dlist))\n",
    "median_d\n"
   ]
  },
  {
   "cell_type": "code",
   "execution_count": 7,
   "metadata": {},
   "outputs": [
    {
     "name": "stdout",
     "output_type": "stream",
     "text": [
      "Median differential is 8.55\n"
     ]
    }
   ],
   "source": [
    "print(\"Median differential is {:.2f}\".format(median_d))"
   ]
  },
  {
   "cell_type": "code",
   "execution_count": 8,
   "metadata": {},
   "outputs": [
    {
     "data": {
      "image/png": "[encoded data removed]",
      "text/plain": [
       "<Figure size 432x288 with 1 Axes>"
      ]
     },
     "metadata": {
      "needs_background": "light"
     },
     "output_type": "display_data"
    }
   ],
   "source": [
    "plt.plot(dlist)\n",
    "plt.xlabel(\"2020 (months)\")\n",
    "plt.ylabel(\"differential\")\n",
    "plt.show()\n"
   ]
  },
  {
   "cell_type": "code",
   "execution_count": null,
   "metadata": {},
   "outputs": [],
   "source": []
  },
  {
   "cell_type": "code",
   "execution_count": null,
   "metadata": {},
   "outputs": [],
   "source": []
  }
 ],
 "metadata": {
  "kernelspec": {
   "display_name": "Python 3",
   "language": "python",
   "name": "python3"
  },
  "language_info": {
   "codemirror_mode": {
    "name": "ipython",
    "version": 3
   },
   "file_extension": ".py",
   "mimetype": "text/x-python",
   "name": "python",
   "nbconvert_exporter": "python",
   "pygments_lexer": "ipython3",
   "version": "3.7.9"
  }
 },
 "nbformat": 4,
 "nbformat_minor": 4
}
