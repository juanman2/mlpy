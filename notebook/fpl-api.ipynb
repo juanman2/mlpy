{
 "cells": [
  {
   "cell_type": "code",
   "execution_count": 3,
   "id": "controlled-billy",
   "metadata": {
    "autoscroll": false,
    "collapsed": false,
    "ein.hycell": false,
    "ein.tags": "worksheet-0",
    "slideshow": {
     "slide_type": "-"
    }
   },
   "outputs": [
    {
     "data": {
      "text/plain": [
       "200"
      ]
     },
     "execution_count": 3,
     "metadata": {},
     "output_type": "execute_result"
    }
   ],
   "source": [
    "import requests\n",
    "import json\n",
    "import time\n",
    "\n",
    "response = requests.get(\"https://fantasy.premierleague.com/api/bootstrap-static/\")\n",
    "if response.status_code != 200:\n",
    "   raise Exception(\"Response was code \" + str(response.status_code))\n",
    "responseStr = response.text\n",
    "\n",
    "response.status_code\n",
    "    \n",
    "    "
   ]
  },
  {
   "cell_type": "code",
   "execution_count": 4,
   "id": "meaningful-union",
   "metadata": {
    "autoscroll": false,
    "collapsed": false,
    "ein.hycell": false,
    "ein.tags": "worksheet-0",
    "slideshow": {
     "slide_type": "-"
    }
   },
   "outputs": [
    {
     "data": {
      "text/plain": [
       "dict"
      ]
     },
     "execution_count": 4,
     "metadata": {},
     "output_type": "execute_result"
    }
   ],
   "source": [
    "    responseStr = response.text\n",
    "    data = json.loads(responseStr)\n",
    "    type(data)\n",
    "    "
   ]
  },
  {
   "cell_type": "code",
   "execution_count": 6,
   "id": "favorite-appraisal",
   "metadata": {
    "autoscroll": false,
    "collapsed": false,
    "ein.hycell": false,
    "ein.tags": "worksheet-0",
    "slideshow": {
     "slide_type": "-"
    }
   },
   "outputs": [
    {
     "data": {
      "text/plain": [
       "dict_keys(['events', 'game_settings', 'phases', 'teams', 'total_players', 'elements', 'element_stats', 'element_types'])"
      ]
     },
     "execution_count": 6,
     "metadata": {},
     "output_type": "execute_result"
    }
   ],
   "source": [
    "\n",
    "data.keys()\n"
   ]
  },
  {
   "cell_type": "code",
   "execution_count": 8,
   "id": "acting-broadway",
   "metadata": {
    "autoscroll": false,
    "collapsed": false,
    "ein.hycell": false,
    "ein.tags": "worksheet-0",
    "slideshow": {
     "slide_type": "-"
    }
   },
   "outputs": [
    {
     "data": {
      "text/plain": [
       "[{'id': 1, 'name': 'Overall', 'start_event': 1, 'stop_event': 38},\n {'id': 2, 'name': 'September', 'start_event': 1, 'stop_event': 3},\n {'id': 3, 'name': 'October', 'start_event': 4, 'stop_event': 7},\n {'id': 4, 'name': 'November', 'start_event': 8, 'stop_event': 10},\n {'id': 5, 'name': 'December', 'start_event': 11, 'stop_event': 16},\n {'id': 6, 'name': 'January', 'start_event': 17, 'stop_event': 21},\n {'id': 7, 'name': 'February', 'start_event': 22, 'stop_event': 26},\n {'id': 8, 'name': 'March', 'start_event': 27, 'stop_event': 29},\n {'id': 9, 'name': 'April', 'start_event': 30, 'stop_event': 33},\n {'id': 10, 'name': 'May', 'start_event': 34, 'stop_event': 38}]"
      ]
     },
     "execution_count": 8,
     "metadata": {},
     "output_type": "execute_result"
    }
   ],
   "source": [
    "\n",
    "keys = data.keys()\n",
    "events = data['events']\n",
    "settings = data['game_settings']\n",
    "phases = data['phases']\n",
    "\n",
    "events\n",
    "settings\n",
    "phases\n"
   ]
  }
 ],
 "metadata": {
  "kernelspec": {
   "argv": [
    "/Users/juan/venv-3.8.6/bin/python",
    "-m",
    "ipykernel_launcher",
    "-f",
    "{connection_file}"
   ],
   "display_name": "venv-3.8.6",
   "env": null,
   "interrupt_mode": "signal",
   "language": "python",
   "metadata": null,
   "name": "venv-3.8.6"
  },
  "name": "Untitled.ipynb"
 },
 "nbformat": 4,
 "nbformat_minor": 5
}
