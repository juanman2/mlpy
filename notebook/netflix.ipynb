{
 "cells": [
  {
   "cell_type": "code",
   "execution_count": 23,
   "metadata": {
    "autoscroll": false,
    "collapsed": false,
    "ein.hycell": false,
    "ein.tags": "worksheet-0",
    "slideshow": {
     "slide_type": "-"
    }
   },
   "outputs": [
    {
     "data": {
      "text/plain": [
       "feedparser.util.FeedParserDict"
      ]
     },
     "execution_count": 23,
     "metadata": {},
     "output_type": "execute_result"
    }
   ],
   "source": [
    "import feedparser\n",
    "import pandas as pd\n",
    "\n",
    "RSS_URL = \"http://feeds.marketwatch.com/marketwatch/mutualfunds/\"\n",
    "\n",
    "feed = feedparser.parse(RSS_URL)\n",
    "\n",
    "type(feed)\n"
   ]
  },
  {
   "cell_type": "code",
   "execution_count": 27,
   "metadata": {
    "autoscroll": false,
    "collapsed": false,
    "ein.hycell": false,
    "ein.tags": "worksheet-0",
    "slideshow": {
     "slide_type": "-"
    }
   },
   "outputs": [
    {
     "name": "stdout",
     "output_type": "stream",
     "text": [
      "MarketWatch.com - Mutual Funds is a well formed feed!\n",
      "{'title': 'MarketWatch.com - Mutual Funds', 'title_detail': {'type': 'text/plain', 'language': None, 'base': 'http://feeds.marketwatch.com/marketwatch/mutualfunds/', 'value': 'MarketWatch.com - Mutual Funds'}, 'links': [{'rel': 'alternate', 'type': 'text/html', 'href': 'http://www.marketwatch.com/search/?mode=Sections&rpp=15&modeparam=Investing%7CMutual+Funds&siteid=rss'}, {'rel': 'self', 'type': 'application/rss+xml', 'href': 'http://feeds.marketwatch.com/marketwatch/mutualfunds'}, {'rel': 'hub', 'href': 'http://pubsubhubbub.appspot.com/', 'type': 'text/html'}], 'link': 'http://www.marketwatch.com/search/?mode=Sections&rpp=15&modeparam=Investing%7CMutual+Funds&siteid=rss', 'subtitle': 'MarketWatch, a leading publisher of business and financial news, offers users up-to-the minute news, investment tools, and subscription products.', 'subtitle_detail': {'type': 'text/html', 'language': None, 'base': 'http://feeds.marketwatch.com/marketwatch/mutualfunds/', 'value': 'MarketWatch, a leading publisher of business and financial news, offers users up-to-the minute news, investment tools, and subscription products.'}, 'language': 'en-us', 'rights': 'Copyright 2021, MarketWatch, Inc.', 'rights_detail': {'type': 'text/plain', 'language': None, 'base': 'http://feeds.marketwatch.com/marketwatch/mutualfunds/', 'value': 'Copyright 2021, MarketWatch, Inc.'}, 'ttl': '60', 'image': {'title': 'MarketWatch.com - Mutual Funds', 'title_detail': {'type': 'text/plain', 'language': None, 'base': 'http://feeds.marketwatch.com/marketwatch/mutualfunds/', 'value': 'MarketWatch.com - Mutual Funds'}, 'href': 'https://www.marketwatch.com/rss/marketwatch.gif', 'links': [{'rel': 'alternate', 'type': 'text/html', 'href': 'http://www.marketwatch.com/search/?mode=Sections&rpp=15&modeparam=Investing%7CMutual+Funds&siteid=rss'}], 'link': 'http://www.marketwatch.com/search/?mode=Sections&rpp=15&modeparam=Investing%7CMutual+Funds&siteid=rss'}, 'feedburner_info': {'uri': 'marketwatch/mutualfunds'}, 'feedburner_feedflare': {'href': 'http://www.pageflakes.com/subscribe.aspx?url=http%3A%2F%2Ffeeds.marketwatch.com%2Fmarketwatch%2Fmutualfunds', 'src': 'http://www.pageflakes.com/ImageFile.ashx?instanceId=Static_4&fileName=ATP_blu_91x17.gif'}}\n"
     ]
    }
   ],
   "source": [
    "feed.keys()\n",
    "\n",
    "if feed.bozo==0:\n",
    "    print(\"%s is a well formed feed!\" % feed.feed.title)\n",
    "    print(feed.feed)\n",
    "else:\n",
    "    print(\"Bad feed: %s\" % RSS_URL)\n",
    "\n"
   ]
  }
 ],
 "metadata": {
  "kernelspec": {
   "argv": [
    "python",
    "-m",
    "ipykernel_launcher",
    "-f",
    "{connection_file}"
   ],
   "display_name": "Python 3",
   "env": null,
   "interrupt_mode": "signal",
   "language": "python",
   "metadata": null,
   "name": "python3"
  },
  "name": "netflix.ipynb"
 },
 "nbformat": 4,
 "nbformat_minor": 4
}
