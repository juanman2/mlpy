{
 "cells": [
  {
   "cell_type": "markdown",
   "metadata": {
    "ein.tags": "worksheet-0",
    "gradient": {
     "editing": false
    },
    "slideshow": {
     "slide_type": "-"
    }
   },
   "source": [
    "# JSON examples and exercise\n",
    "****\n",
    "+ get familiar with packages for dealing with JSON\n",
    "+ study examples with JSON strings and files \n",
    "+ work on exercise to be completed and submitted \n",
    "****\n",
    "+ reference: http://pandas.pydata.org/pandas-docs/stable/io.html#io-json-reader\n",
    "+ data source: http://jsonstudio.com/resources/\n",
    "****"
   ]
  },
  {
   "cell_type": "code",
   "execution_count": 124,
   "metadata": {
    "autoscroll": false,
    "collapsed": false,
    "ein.hycell": false,
    "ein.tags": "worksheet-0",
    "slideshow": {
     "slide_type": "-"
    }
   },
   "outputs": [],
   "source": [
    "import pandas as pd"
   ]
  },
  {
   "cell_type": "markdown",
   "metadata": {
    "ein.tags": "worksheet-0",
    "gradient": {
     "editing": false
    },
    "slideshow": {
     "slide_type": "-"
    }
   },
   "source": [
    "## imports for Python, Pandas"
   ]
  },
  {
   "cell_type": "code",
   "execution_count": 125,
   "metadata": {
    "autoscroll": false,
    "collapsed": false,
    "ein.hycell": false,
    "ein.tags": "worksheet-0",
    "gradient": null,
    "slideshow": {
     "slide_type": "-"
    }
   },
   "outputs": [],
   "source": [
    "import json\n",
    "from pandas import json_normalize"
   ]
  },
  {
   "cell_type": "markdown",
   "metadata": {
    "ein.tags": "worksheet-0",
    "gradient": {
     "editing": false
    },
    "slideshow": {
     "slide_type": "-"
    }
   },
   "source": [
    "## JSON example, with string\n",
    "\n",
    "+ demonstrates creation of normalized dataframes (tables) from nested json string\n",
    "+ source: http://pandas.pydata.org/pandas-docs/stable/io.html#normalization"
   ]
  },
  {
   "cell_type": "code",
   "execution_count": 126,
   "metadata": {
    "autoscroll": false,
    "collapsed": false,
    "ein.hycell": false,
    "ein.tags": "worksheet-0",
    "gradient": null,
    "slideshow": {
     "slide_type": "-"
    }
   },
   "outputs": [],
   "source": [
    "# define json string\n",
    "data = [{'state': 'Florida', \n",
    "         'shortname': 'FL',\n",
    "         'info': {'governor': 'Rick Scott'},\n",
    "         'counties': [{'name': 'Dade', 'population': 12345},\n",
    "                      {'name': 'Broward', 'population': 40000},\n",
    "                      {'name': 'Palm Beach', 'population': 60000}]},\n",
    "        {'state': 'Ohio',\n",
    "         'shortname': 'OH',\n",
    "         'info': {'governor': 'John Kasich'},\n",
    "         'counties': [{'name': 'Summit', 'population': 1234},\n",
    "                      {'name': 'Cuyahoga', 'population': 1337}]}]"
   ]
  },
  {
   "cell_type": "code",
   "execution_count": 127,
   "metadata": {
    "autoscroll": false,
    "collapsed": false,
    "ein.hycell": false,
    "ein.tags": "worksheet-0",
    "gradient": null,
    "jupyter": {
     "outputs_hidden": false
    },
    "slideshow": {
     "slide_type": "-"
    }
   },
   "outputs": [
    {
     "data": {
      "text/html": [
       "<div>\n<style scoped>\n    .dataframe tbody tr th:only-of-type {\n        vertical-align: middle;\n    }\n\n    .dataframe tbody tr th {\n        vertical-align: top;\n    }\n\n    .dataframe thead th {\n        text-align: right;\n    }\n</style>\n<table border=\"1\" class=\"dataframe\">\n  <thead>\n    <tr style=\"text-align: right;\">\n      <th></th>\n      <th>name</th>\n      <th>population</th>\n    </tr>\n  </thead>\n  <tbody>\n    <tr>\n      <th>0</th>\n      <td>Dade</td>\n      <td>12345</td>\n    </tr>\n    <tr>\n      <th>1</th>\n      <td>Broward</td>\n      <td>40000</td>\n    </tr>\n    <tr>\n      <th>2</th>\n      <td>Palm Beach</td>\n      <td>60000</td>\n    </tr>\n    <tr>\n      <th>3</th>\n      <td>Summit</td>\n      <td>1234</td>\n    </tr>\n    <tr>\n      <th>4</th>\n      <td>Cuyahoga</td>\n      <td>1337</td>\n    </tr>\n  </tbody>\n</table>\n</div>"
      ],
      "text/plain": [
       "         name  population\n0        Dade       12345\n1     Broward       40000\n2  Palm Beach       60000\n3      Summit        1234\n4    Cuyahoga        1337"
      ]
     },
     "execution_count": 127,
     "metadata": {},
     "output_type": "execute_result"
    }
   ],
   "source": [
    "# use normalization to create tables from nested element\n",
    "json_normalize(data, 'counties')"
   ]
  },
  {
   "cell_type": "code",
   "execution_count": 128,
   "metadata": {
    "autoscroll": false,
    "collapsed": false,
    "ein.hycell": false,
    "ein.tags": "worksheet-0",
    "gradient": null,
    "jupyter": {
     "outputs_hidden": false
    },
    "slideshow": {
     "slide_type": "-"
    }
   },
   "outputs": [
    {
     "data": {
      "text/html": [
       "<div>\n<style scoped>\n    .dataframe tbody tr th:only-of-type {\n        vertical-align: middle;\n    }\n\n    .dataframe tbody tr th {\n        vertical-align: top;\n    }\n\n    .dataframe thead th {\n        text-align: right;\n    }\n</style>\n<table border=\"1\" class=\"dataframe\">\n  <thead>\n    <tr style=\"text-align: right;\">\n      <th></th>\n      <th>name</th>\n      <th>population</th>\n      <th>state</th>\n      <th>shortname</th>\n      <th>info.governor</th>\n    </tr>\n  </thead>\n  <tbody>\n    <tr>\n      <th>0</th>\n      <td>Dade</td>\n      <td>12345</td>\n      <td>Florida</td>\n      <td>FL</td>\n      <td>Rick Scott</td>\n    </tr>\n    <tr>\n      <th>1</th>\n      <td>Broward</td>\n      <td>40000</td>\n      <td>Florida</td>\n      <td>FL</td>\n      <td>Rick Scott</td>\n    </tr>\n    <tr>\n      <th>2</th>\n      <td>Palm Beach</td>\n      <td>60000</td>\n      <td>Florida</td>\n      <td>FL</td>\n      <td>Rick Scott</td>\n    </tr>\n    <tr>\n      <th>3</th>\n      <td>Summit</td>\n      <td>1234</td>\n      <td>Ohio</td>\n      <td>OH</td>\n      <td>John Kasich</td>\n    </tr>\n    <tr>\n      <th>4</th>\n      <td>Cuyahoga</td>\n      <td>1337</td>\n      <td>Ohio</td>\n      <td>OH</td>\n      <td>John Kasich</td>\n    </tr>\n  </tbody>\n</table>\n</div>"
      ],
      "text/plain": [
       "         name  population    state shortname info.governor\n0        Dade       12345  Florida        FL    Rick Scott\n1     Broward       40000  Florida        FL    Rick Scott\n2  Palm Beach       60000  Florida        FL    Rick Scott\n3      Summit        1234     Ohio        OH   John Kasich\n4    Cuyahoga        1337     Ohio        OH   John Kasich"
      ]
     },
     "execution_count": 128,
     "metadata": {},
     "output_type": "execute_result"
    }
   ],
   "source": [
    "# further populate tables created from nested element\n",
    "json_normalize(data, 'counties', ['state', 'shortname', ['info', 'governor']])"
   ]
  },
  {
   "cell_type": "markdown",
   "metadata": {
    "ein.tags": "worksheet-0",
    "gradient": {
     "editing": false
    },
    "slideshow": {
     "slide_type": "-"
    }
   },
   "source": [
    "****\n",
    "## JSON example, with file\n",
    "\n",
    "+ demonstrates reading in a json file as a string and as a table\n",
    "+ uses small sample file containing data about projects funded by the World Bank \n",
    "+ data source: http://jsonstudio.com/resources/"
   ]
  },
  {
   "cell_type": "code",
   "execution_count": 129,
   "metadata": {
    "autoscroll": false,
    "collapsed": false,
    "ein.hycell": false,
    "ein.tags": "worksheet-0",
    "gradient": null,
    "jupyter": {
     "outputs_hidden": false
    },
    "slideshow": {
     "slide_type": "-"
    }
   },
   "outputs": [
    {
     "data": {
      "text/plain": [
       "[{'_id': {'$oid': '52b213b38594d8a2be17c780'},\n  'approvalfy': 1999,\n  'board_approval_month': 'November',\n  'boardapprovaldate': '2013-11-12T00:00:00Z',\n  'borrower': 'FEDERAL DEMOCRATIC REPUBLIC OF ETHIOPIA',\n  'closingdate': '2018-07-07T00:00:00Z',\n  'country_namecode': 'Federal Democratic Republic of Ethiopia!$!ET',\n  'countrycode': 'ET',\n  'countryname': 'Federal Democratic Republic of Ethiopia',\n  'countryshortname': 'Ethiopia',\n  'docty': 'Project Information Document,Indigenous Peoples Plan,Project Information Document',\n  'envassesmentcategorycode': 'C',\n  'grantamt': 0,\n  'ibrdcommamt': 0,\n  'id': 'P129828',\n  'idacommamt': 130000000,\n  'impagency': 'MINISTRY OF EDUCATION',\n  'lendinginstr': 'Investment Project Financing',\n  'lendinginstrtype': 'IN',\n  'lendprojectcost': 550000000,\n  'majorsector_percent': [{'Name': 'Education', 'Percent': 46},\n   {'Name': 'Education', 'Percent': 26},\n   {'Name': 'Public Administration, Law, and Justice', 'Percent': 16},\n   {'Name': 'Education', 'Percent': 12}],\n  'mjsector_namecode': [{'name': 'Education', 'code': 'EX'},\n   {'name': 'Education', 'code': 'EX'},\n   {'name': 'Public Administration, Law, and Justice', 'code': 'BX'},\n   {'name': 'Education', 'code': 'EX'}],\n  'mjtheme': ['Human development'],\n  'mjtheme_namecode': [{'name': 'Human development', 'code': '8'},\n   {'name': '', 'code': '11'}],\n  'mjthemecode': '8,11',\n  'prodline': 'PE',\n  'prodlinetext': 'IBRD/IDA',\n  'productlinetype': 'L',\n  'project_abstract': {'cdata': 'The development objective of the Second Phase of General Education Quality Improvement Project for Ethiopia is to improve learning conditions in primary and secondary schools and strengthen institutions at different levels of educational administration. The project has six components. The first component is curriculum, textbooks, assessment, examinations, and inspection. This component will support improvement of learning conditions in grades KG-12 by providing increased access to teaching and learning materials and through improvements to the curriculum by assessing the strengths and weaknesses of the current curriculum. This component has following four sub-components: (i) curriculum reform and implementation; (ii) teaching and learning materials; (iii) assessment and examinations; and (iv) inspection. The second component is teacher development program (TDP). This component will support improvements in learning conditions in both primary and secondary schools by advancing the quality of teaching in general education through: (a) enhancing the training of pre-service teachers in teacher education institutions; and (b) improving the quality of in-service teacher training. This component has following three sub-components: (i) pre-service teacher training; (ii) in-service teacher training; and (iii) licensing and relicensing of teachers and school leaders. The third component is school improvement plan. This component will support the strengthening of school planning in order to improve learning outcomes, and to partly fund the school improvement plans through school grants. It has following two sub-components: (i) school improvement plan; and (ii) school grants. The fourth component is management and capacity building, including education management information systems (EMIS). This component will support management and capacity building aspect of the project. This component has following three sub-components: (i) capacity building for education planning and management; (ii) capacity building for school planning and management; and (iii) EMIS. The fifth component is improving the quality of learning and teaching in secondary schools and universities through the use of information and communications technology (ICT). It has following five sub-components: (i) national policy and institution for ICT in general education; (ii) national ICT infrastructure improvement plan for general education; (iii) develop an integrated monitoring, evaluation, and learning system specifically for the ICT component; (iv) teacher professional development in the use of ICT; and (v) provision of limited number of e-Braille display readers with the possibility to scale up to all secondary education schools based on the successful implementation and usage of the readers. The sixth component is program coordination, monitoring and evaluation, and communication. It will support institutional strengthening by developing capacities in all aspects of program coordination, monitoring and evaluation; a new sub-component on communications will support information sharing for better management and accountability. It has following three sub-components: (i) program coordination; (ii) monitoring and evaluation (M and E); and (iii) communication.'},\n  'project_name': 'Ethiopia General Education Quality Improvement Project II',\n  'projectdocs': [{'DocTypeDesc': 'Project Information Document (PID),  Vol.',\n    'DocType': 'PID',\n    'EntityID': '090224b081e545fb_1_0',\n    'DocURL': 'http://www-wds.worldbank.org/servlet/WDSServlet?pcont=details&eid=090224b081e545fb_1_0',\n    'DocDate': '28-AUG-2013'},\n   {'DocTypeDesc': 'Indigenous Peoples Plan (IP),  Vol.1 of 1',\n    'DocType': 'IP',\n    'EntityID': '000442464_20130920111729',\n    'DocURL': 'http://www-wds.worldbank.org/servlet/WDSServlet?pcont=details&eid=000442464_20130920111729',\n    'DocDate': '01-JUL-2013'},\n   {'DocTypeDesc': 'Project Information Document (PID),  Vol.',\n    'DocType': 'PID',\n    'EntityID': '090224b0817b19e2_1_0',\n    'DocURL': 'http://www-wds.worldbank.org/servlet/WDSServlet?pcont=details&eid=090224b0817b19e2_1_0',\n    'DocDate': '22-NOV-2012'}],\n  'projectfinancialtype': 'IDA',\n  'projectstatusdisplay': 'Active',\n  'regionname': 'Africa',\n  'sector': [{'Name': 'Primary education'},\n   {'Name': 'Secondary education'},\n   {'Name': 'Public administration- Other social services'},\n   {'Name': 'Tertiary education'}],\n  'sector1': {'Name': 'Primary education', 'Percent': 46},\n  'sector2': {'Name': 'Secondary education', 'Percent': 26},\n  'sector3': {'Name': 'Public administration- Other social services',\n   'Percent': 16},\n  'sector4': {'Name': 'Tertiary education', 'Percent': 12},\n  'sector_namecode': [{'name': 'Primary education', 'code': 'EP'},\n   {'name': 'Secondary education', 'code': 'ES'},\n   {'name': 'Public administration- Other social services', 'code': 'BS'},\n   {'name': 'Tertiary education', 'code': 'ET'}],\n  'sectorcode': 'ET,BS,ES,EP',\n  'source': 'IBRD',\n  'status': 'Active',\n  'supplementprojectflg': 'N',\n  'theme1': {'Name': 'Education for all', 'Percent': 100},\n  'theme_namecode': [{'name': 'Education for all', 'code': '65'}],\n  'themecode': '65',\n  'totalamt': 130000000,\n  'totalcommamt': 130000000,\n  'url': 'http://www.worldbank.org/projects/P129828/ethiopia-general-education-quality-improvement-project-ii?lang=en'},\n {'_id': {'$oid': '52b213b38594d8a2be17c781'},\n  'approvalfy': 2015,\n  'board_approval_month': 'November',\n  'boardapprovaldate': '2013-11-04T00:00:00Z',\n  'borrower': 'GOVERNMENT OF TUNISIA',\n  'country_namecode': 'Republic of Tunisia!$!TN',\n  'countrycode': 'TN',\n  'countryname': 'Republic of Tunisia',\n  'countryshortname': 'Tunisia',\n  'docty': 'Project Information Document,Integrated Safeguards Data Sheet,Integrated Safeguards Data Sheet,Project Information Document,Integrated Safeguards Data Sheet,Project Information Document',\n  'envassesmentcategorycode': 'C',\n  'grantamt': 4700000,\n  'ibrdcommamt': 0,\n  'id': 'P144674',\n  'idacommamt': 0,\n  'impagency': 'MINISTRY OF FINANCE',\n  'lendinginstr': 'Specific Investment Loan',\n  'lendinginstrtype': 'IN',\n  'lendprojectcost': 5700000,\n  'majorsector_percent': [{'Name': 'Public Administration, Law, and Justice',\n    'Percent': 70},\n   {'Name': 'Public Administration, Law, and Justice', 'Percent': 30}],\n  'mjsector_namecode': [{'name': 'Public Administration, Law, and Justice',\n    'code': 'BX'},\n   {'name': 'Public Administration, Law, and Justice', 'code': 'BX'}],\n  'mjtheme': ['Economic management', 'Social protection and risk management'],\n  'mjtheme_namecode': [{'name': 'Economic management', 'code': '1'},\n   {'name': 'Social protection and risk management', 'code': '6'}],\n  'mjthemecode': '1,6',\n  'prodline': 'RE',\n  'prodlinetext': 'Recipient Executed Activities',\n  'productlinetype': 'L',\n  'project_name': 'TN: DTF Social Protection Reforms Support',\n  'projectdocs': [{'DocTypeDesc': 'Project Information Document (PID),  Vol.1 of 1',\n    'DocType': 'PID',\n    'EntityID': '000333037_20131024115616',\n    'DocURL': 'http://www-wds.worldbank.org/servlet/WDSServlet?pcont=details&eid=000333037_20131024115616',\n    'DocDate': '29-MAR-2013'},\n   {'DocTypeDesc': 'Integrated Safeguards Data Sheet (ISDS),  Vol.1 of 1',\n    'DocType': 'ISDS',\n    'EntityID': '000356161_20131024151611',\n    'DocURL': 'http://www-wds.worldbank.org/servlet/WDSServlet?pcont=details&eid=000356161_20131024151611',\n    'DocDate': '29-MAR-2013'},\n   {'DocTypeDesc': 'Integrated Safeguards Data Sheet (ISDS),  Vol.1 of 1',\n    'DocType': 'ISDS',\n    'EntityID': '000442464_20131031112136',\n    'DocURL': 'http://www-wds.worldbank.org/servlet/WDSServlet?pcont=details&eid=000442464_20131031112136',\n    'DocDate': '29-MAR-2013'},\n   {'DocTypeDesc': 'Project Information Document (PID),  Vol.1 of 1',\n    'DocType': 'PID',\n    'EntityID': '000333037_20131031105716',\n    'DocURL': 'http://www-wds.worldbank.org/servlet/WDSServlet?pcont=details&eid=000333037_20131031105716',\n    'DocDate': '29-MAR-2013'},\n   {'DocTypeDesc': 'Integrated Safeguards Data Sheet (ISDS),  Vol.1 of 1',\n    'DocType': 'ISDS',\n    'EntityID': '000356161_20130305113209',\n    'DocURL': 'http://www-wds.worldbank.org/servlet/WDSServlet?pcont=details&eid=000356161_20130305113209',\n    'DocDate': '16-JAN-2013'},\n   {'DocTypeDesc': 'Project Information Document (PID),  Vol.1 of 1',\n    'DocType': 'PID',\n    'EntityID': '000356161_20130305113716',\n    'DocURL': 'http://www-wds.worldbank.org/servlet/WDSServlet?pcont=details&eid=000356161_20130305113716',\n    'DocDate': '16-JAN-2013'}],\n  'projectfinancialtype': 'OTHER',\n  'projectstatusdisplay': 'Active',\n  'regionname': 'Middle East and North Africa',\n  'sector': [{'Name': 'Public administration- Other social services'},\n   {'Name': 'General public administration sector'}],\n  'sector1': {'Name': 'Public administration- Other social services',\n   'Percent': 70},\n  'sector2': {'Name': 'General public administration sector', 'Percent': 30},\n  'sector_namecode': [{'name': 'Public administration- Other social services',\n    'code': 'BS'},\n   {'name': 'General public administration sector', 'code': 'BZ'}],\n  'sectorcode': 'BZ,BS',\n  'source': 'IBRD',\n  'status': 'Active',\n  'supplementprojectflg': 'N',\n  'theme1': {'Name': 'Other economic management', 'Percent': 30},\n  'theme_namecode': [{'name': 'Other economic management', 'code': '24'},\n   {'name': 'Social safety nets', 'code': '54'}],\n  'themecode': '54,24',\n  'totalamt': 0,\n  'totalcommamt': 4700000,\n  'url': 'http://www.worldbank.org/projects/P144674?lang=en'}]"
      ]
     },
     "execution_count": 129,
     "metadata": {},
     "output_type": "execute_result"
    }
   ],
   "source": [
    "# load json as string\n",
    "json.load((open('data/world_bank_projects_less.json')))"
   ]
  },
  {
   "cell_type": "code",
   "execution_count": 130,
   "metadata": {
    "autoscroll": false,
    "collapsed": false,
    "ein.hycell": false,
    "ein.tags": "worksheet-0",
    "gradient": null,
    "jupyter": {
     "outputs_hidden": false
    },
    "slideshow": {
     "slide_type": "-"
    }
   },
   "outputs": [],
   "source": [
    "# load as Pandas dataframe\n",
    "sample_json_df = pd.read_json('data/world_bank_projects_less.json')"
   ]
  },
  {
   "cell_type": "markdown",
   "metadata": {
    "ein.tags": "worksheet-0",
    "gradient": {
     "editing": false
    },
    "slideshow": {
     "slide_type": "-"
    }
   },
   "source": [
    "****\n",
    "## JSON exercise\n",
    "\n",
    "Using data in file 'data/world_bank_projects.json' and the techniques demonstrated above,\n",
    "1. Find the 10 countries with most projects\n",
    "2. Find the top 10 major project themes (using column 'mjtheme_namecode')\n",
    "3. In 2. above you will notice that some entries have only the code and the name is missing. Create a dataframe with the missing names filled in."
   ]
  },
  {
   "cell_type": "code",
   "execution_count": 131,
   "metadata": {
    "autoscroll": false,
    "collapsed": false,
    "ein.hycell": false,
    "ein.tags": "worksheet-0",
    "gradient": null,
    "slideshow": {
     "slide_type": "-"
    }
   },
   "outputs": [],
   "source": [
    "wb_json_df = pd.read_json('data/world_bank_projects.json')"
   ]
  },
  {
   "cell_type": "code",
   "execution_count": 132,
   "metadata": {
    "autoscroll": false,
    "collapsed": false,
    "ein.hycell": false,
    "ein.tags": "worksheet-0",
    "slideshow": {
     "slide_type": "-"
    }
   },
   "outputs": [
    {
     "data": {
      "text/plain": [
       "countryshortname\nChina                 19\nIndonesia             19\nVietnam               17\nIndia                 16\nYemen, Republic of    13\nNepal                 12\nBangladesh            12\nMorocco               12\nMozambique            11\nAfrica                11\nName: countryshortname, dtype: int64"
      ]
     },
     "execution_count": 132,
     "metadata": {},
     "output_type": "execute_result"
    }
   ],
   "source": [
    "wb_json_df.groupby('countryshortname')['countryshortname'].count().sort_values(ascending=False).head(10)"
   ]
  },
  {
   "cell_type": "code",
   "execution_count": 133,
   "metadata": {
    "autoscroll": false,
    "collapsed": false,
    "ein.hycell": false,
    "ein.tags": "worksheet-0",
    "slideshow": {
     "slide_type": "-"
    }
   },
   "outputs": [],
   "source": [
    "wb_json = json.load((open('data/world_bank_projects.json')))\n"
   ]
  },
  {
   "cell_type": "markdown",
   "metadata": {
    "ein.tags": "worksheet-0",
    "slideshow": {
     "slide_type": "-"
    }
   },
   "source": [
    "## Problem 2.\n",
    "Load json then create a them_namecode table by normalzing it. "
   ]
  },
  {
   "cell_type": "code",
   "execution_count": 134,
   "metadata": {
    "autoscroll": false,
    "collapsed": false,
    "ein.hycell": false,
    "ein.tags": "worksheet-0",
    "slideshow": {
     "slide_type": "-"
    }
   },
   "outputs": [
    {
     "data": {
      "text/html": [
       "<div>\n<style scoped>\n    .dataframe tbody tr th:only-of-type {\n        vertical-align: middle;\n    }\n\n    .dataframe tbody tr th {\n        vertical-align: top;\n    }\n\n    .dataframe thead th {\n        text-align: right;\n    }\n</style>\n<table border=\"1\" class=\"dataframe\">\n  <thead>\n    <tr style=\"text-align: right;\">\n      <th></th>\n      <th>code</th>\n    </tr>\n    <tr>\n      <th>name</th>\n      <th></th>\n    </tr>\n  </thead>\n  <tbody>\n    <tr>\n      <th>Environment and natural resources management</th>\n      <td>223</td>\n    </tr>\n    <tr>\n      <th>Rural development</th>\n      <td>202</td>\n    </tr>\n    <tr>\n      <th>Human development</th>\n      <td>197</td>\n    </tr>\n    <tr>\n      <th>Public sector governance</th>\n      <td>184</td>\n    </tr>\n    <tr>\n      <th>Social protection and risk management</th>\n      <td>158</td>\n    </tr>\n    <tr>\n      <th>Financial and private sector development</th>\n      <td>130</td>\n    </tr>\n    <tr>\n      <th></th>\n      <td>122</td>\n    </tr>\n    <tr>\n      <th>Social dev/gender/inclusion</th>\n      <td>119</td>\n    </tr>\n    <tr>\n      <th>Trade and integration</th>\n      <td>72</td>\n    </tr>\n    <tr>\n      <th>Urban development</th>\n      <td>47</td>\n    </tr>\n    <tr>\n      <th>Economic management</th>\n      <td>33</td>\n    </tr>\n    <tr>\n      <th>Rule of law</th>\n      <td>12</td>\n    </tr>\n  </tbody>\n</table>\n</div>"
      ],
      "text/plain": [
       "                                              code\nname                                              \nEnvironment and natural resources management   223\nRural development                              202\nHuman development                              197\nPublic sector governance                       184\nSocial protection and risk management          158\nFinancial and private sector development       130\n                                               122\nSocial dev/gender/inclusion                    119\nTrade and integration                           72\nUrban development                               47\nEconomic management                             33\nRule of law                                     12"
      ]
     },
     "execution_count": 134,
     "metadata": {},
     "output_type": "execute_result"
    }
   ],
   "source": [
    "wb_json_normalized = json_normalize(wb_json, 'mjtheme_namecode', errors='ignore')\n",
    "wb_json_normalized.groupby('name').count().sort_values(by='code', ascending=False)\n"
   ]
  },
  {
   "cell_type": "markdown",
   "metadata": {
    "ein.tags": "worksheet-0",
    "slideshow": {
     "slide_type": "-"
    }
   },
   "source": [
    "Note the empty row with a count of 122, Fix that below by changing\n",
    "white space to NaN"
   ]
  },
  {
   "cell_type": "code",
   "execution_count": 138,
   "metadata": {
    "autoscroll": false,
    "collapsed": false,
    "ein.hycell": false,
    "ein.tags": "worksheet-0",
    "slideshow": {
     "slide_type": "-"
    }
   },
   "outputs": [
    {
     "data": {
      "text/html": [
       "<div>\n<style scoped>\n    .dataframe tbody tr th:only-of-type {\n        vertical-align: middle;\n    }\n\n    .dataframe tbody tr th {\n        vertical-align: top;\n    }\n\n    .dataframe thead th {\n        text-align: right;\n    }\n</style>\n<table border=\"1\" class=\"dataframe\">\n  <thead>\n    <tr style=\"text-align: right;\">\n      <th></th>\n      <th>code</th>\n      <th>name</th>\n    </tr>\n  </thead>\n  <tbody>\n    <tr>\n      <th>0</th>\n      <td>8</td>\n      <td>Human development</td>\n    </tr>\n    <tr>\n      <th>1</th>\n      <td>11</td>\n      <td>NaN</td>\n    </tr>\n    <tr>\n      <th>2</th>\n      <td>1</td>\n      <td>Economic management</td>\n    </tr>\n    <tr>\n      <th>3</th>\n      <td>6</td>\n      <td>Social protection and risk management</td>\n    </tr>\n    <tr>\n      <th>4</th>\n      <td>5</td>\n      <td>Trade and integration</td>\n    </tr>\n    <tr>\n      <th>...</th>\n      <td>...</td>\n      <td>...</td>\n    </tr>\n    <tr>\n      <th>1494</th>\n      <td>10</td>\n      <td>Rural development</td>\n    </tr>\n    <tr>\n      <th>1495</th>\n      <td>9</td>\n      <td>Urban development</td>\n    </tr>\n    <tr>\n      <th>1496</th>\n      <td>8</td>\n      <td>Human development</td>\n    </tr>\n    <tr>\n      <th>1497</th>\n      <td>5</td>\n      <td>Trade and integration</td>\n    </tr>\n    <tr>\n      <th>1498</th>\n      <td>4</td>\n      <td>Financial and private sector development</td>\n    </tr>\n  </tbody>\n</table>\n<p>1499 rows × 2 columns</p>\n</div>"
      ],
      "text/plain": [
       "     code                                      name\n0       8                         Human development\n1      11                                       NaN\n2       1                       Economic management\n3       6     Social protection and risk management\n4       5                     Trade and integration\n...   ...                                       ...\n1494   10                         Rural development\n1495    9                         Urban development\n1496    8                         Human development\n1497    5                     Trade and integration\n1498    4  Financial and private sector development\n\n[1499 rows x 2 columns]"
      ]
     },
     "execution_count": 138,
     "metadata": {},
     "output_type": "execute_result"
    }
   ],
   "source": [
    "import numpy as np\n",
    "stripped = wb_json_normalized.replace(r'^\\s*$', np.nan, regex=True)\n",
    "stripped\n"
   ]
  },
  {
   "cell_type": "markdown",
   "metadata": {
    "ein.tags": "worksheet-0",
    "slideshow": {
     "slide_type": "-"
    }
   },
   "source": [
    "Now use ffil pad to replace the NaN with the code associated with the empty row."
   ]
  },
  {
   "cell_type": "code",
   "execution_count": 136,
   "metadata": {
    "autoscroll": false,
    "collapsed": false,
    "ein.hycell": false,
    "ein.tags": "worksheet-0",
    "slideshow": {
     "slide_type": "-"
    }
   },
   "outputs": [
    {
     "data": {
      "text/html": [
       "<div>\n<style scoped>\n    .dataframe tbody tr th:only-of-type {\n        vertical-align: middle;\n    }\n\n    .dataframe tbody tr th {\n        vertical-align: top;\n    }\n\n    .dataframe thead th {\n        text-align: right;\n    }\n</style>\n<table border=\"1\" class=\"dataframe\">\n  <thead>\n    <tr style=\"text-align: right;\">\n      <th></th>\n      <th>code</th>\n      <th>name</th>\n    </tr>\n  </thead>\n  <tbody>\n    <tr>\n      <th>0</th>\n      <td>8</td>\n      <td>Human development</td>\n    </tr>\n    <tr>\n      <th>1</th>\n      <td>11</td>\n      <td>11</td>\n    </tr>\n    <tr>\n      <th>2</th>\n      <td>1</td>\n      <td>Economic management</td>\n    </tr>\n    <tr>\n      <th>3</th>\n      <td>6</td>\n      <td>Social protection and risk management</td>\n    </tr>\n    <tr>\n      <th>4</th>\n      <td>5</td>\n      <td>Trade and integration</td>\n    </tr>\n    <tr>\n      <th>...</th>\n      <td>...</td>\n      <td>...</td>\n    </tr>\n    <tr>\n      <th>1494</th>\n      <td>10</td>\n      <td>Rural development</td>\n    </tr>\n    <tr>\n      <th>1495</th>\n      <td>9</td>\n      <td>Urban development</td>\n    </tr>\n    <tr>\n      <th>1496</th>\n      <td>8</td>\n      <td>Human development</td>\n    </tr>\n    <tr>\n      <th>1497</th>\n      <td>5</td>\n      <td>Trade and integration</td>\n    </tr>\n    <tr>\n      <th>1498</th>\n      <td>4</td>\n      <td>Financial and private sector development</td>\n    </tr>\n  </tbody>\n</table>\n<p>1499 rows × 2 columns</p>\n</div>"
      ],
      "text/plain": [
       "     code                                      name\n0       8                         Human development\n1      11                                        11\n2       1                       Economic management\n3       6     Social protection and risk management\n4       5                     Trade and integration\n...   ...                                       ...\n1494   10                         Rural development\n1495    9                         Urban development\n1496    8                         Human development\n1497    5                     Trade and integration\n1498    4  Financial and private sector development\n\n[1499 rows x 2 columns]"
      ]
     },
     "execution_count": 136,
     "metadata": {},
     "output_type": "execute_result"
    }
   ],
   "source": [
    "wb_json_inputed = stripped.fillna(axis=1, method='pad')\n",
    "wb_json_inputed\n"
   ]
  },
  {
   "cell_type": "markdown",
   "metadata": {
    "ein.tags": "worksheet-0",
    "slideshow": {
     "slide_type": "-"
    }
   },
   "source": [
    "## Problem 3.\n",
    "Repeat the groupby below and see that new counts are generated."
   ]
  },
  {
   "cell_type": "code",
   "execution_count": 137,
   "metadata": {
    "autoscroll": false,
    "collapsed": false,
    "ein.hycell": false,
    "ein.tags": "worksheet-0",
    "slideshow": {
     "slide_type": "-"
    }
   },
   "outputs": [
    {
     "data": {
      "text/html": [
       "<div>\n<style scoped>\n    .dataframe tbody tr th:only-of-type {\n        vertical-align: middle;\n    }\n\n    .dataframe tbody tr th {\n        vertical-align: top;\n    }\n\n    .dataframe thead th {\n        text-align: right;\n    }\n</style>\n<table border=\"1\" class=\"dataframe\">\n  <thead>\n    <tr style=\"text-align: right;\">\n      <th></th>\n      <th>code</th>\n    </tr>\n    <tr>\n      <th>name</th>\n      <th></th>\n    </tr>\n  </thead>\n  <tbody>\n    <tr>\n      <th>Environment and natural resources management</th>\n      <td>223</td>\n    </tr>\n    <tr>\n      <th>Rural development</th>\n      <td>202</td>\n    </tr>\n    <tr>\n      <th>Human development</th>\n      <td>197</td>\n    </tr>\n    <tr>\n      <th>Public sector governance</th>\n      <td>184</td>\n    </tr>\n    <tr>\n      <th>Social protection and risk management</th>\n      <td>158</td>\n    </tr>\n    <tr>\n      <th>Financial and private sector development</th>\n      <td>130</td>\n    </tr>\n    <tr>\n      <th>Social dev/gender/inclusion</th>\n      <td>119</td>\n    </tr>\n    <tr>\n      <th>Trade and integration</th>\n      <td>72</td>\n    </tr>\n    <tr>\n      <th>Urban development</th>\n      <td>47</td>\n    </tr>\n    <tr>\n      <th>Economic management</th>\n      <td>33</td>\n    </tr>\n    <tr>\n      <th>11</th>\n      <td>27</td>\n    </tr>\n    <tr>\n      <th>4</th>\n      <td>16</td>\n    </tr>\n    <tr>\n      <th>2</th>\n      <td>15</td>\n    </tr>\n    <tr>\n      <th>10</th>\n      <td>14</td>\n    </tr>\n    <tr>\n      <th>8</th>\n      <td>13</td>\n    </tr>\n    <tr>\n      <th>Rule of law</th>\n      <td>12</td>\n    </tr>\n    <tr>\n      <th>7</th>\n      <td>11</td>\n    </tr>\n    <tr>\n      <th>6</th>\n      <td>10</td>\n    </tr>\n    <tr>\n      <th>5</th>\n      <td>5</td>\n    </tr>\n    <tr>\n      <th>1</th>\n      <td>5</td>\n    </tr>\n    <tr>\n      <th>9</th>\n      <td>3</td>\n    </tr>\n    <tr>\n      <th>3</th>\n      <td>3</td>\n    </tr>\n  </tbody>\n</table>\n</div>"
      ],
      "text/plain": [
       "                                              code\nname                                              \nEnvironment and natural resources management   223\nRural development                              202\nHuman development                              197\nPublic sector governance                       184\nSocial protection and risk management          158\nFinancial and private sector development       130\nSocial dev/gender/inclusion                    119\nTrade and integration                           72\nUrban development                               47\nEconomic management                             33\n11                                              27\n4                                               16\n2                                               15\n10                                              14\n8                                               13\nRule of law                                     12\n7                                               11\n6                                               10\n5                                                5\n1                                                5\n9                                                3\n3                                                3"
      ]
     },
     "execution_count": 137,
     "metadata": {},
     "output_type": "execute_result"
    }
   ],
   "source": [
    "wb_json_inputed.groupby('name').count().sort_values(by='code', ascending=False)\n"
   ]
  }
 ],
 "metadata": {
  "kernelspec": {
   "argv": [
    "python",
    "-m",
    "ipykernel_launcher",
    "-f",
    "{connection_file}"
   ],
   "display_name": "Python 3",
   "env": null,
   "interrupt_mode": "signal",
   "language": "python",
   "metadata": null,
   "name": "python3"
  },
  "language_info": {
   "codemirror_mode": {
    "name": "ipython",
    "version": 3
   },
   "file_extension": ".py",
   "mimetype": "text/x-python",
   "name": "python",
   "nbconvert_exporter": "python",
   "pygments_lexer": "ipython3",
   "version": "3.7.9"
  },
  "name": "Mini_Project_Wrangling_Json_Exercise.ipynb"
 },
 "nbformat": 4,
 "nbformat_minor": 4
}
