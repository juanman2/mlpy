{
 "cells": [
  {
   "cell_type": "markdown",
   "id": "greenhouse-driving",
   "metadata": {
    "ein.tags": "worksheet-0",
    "slideshow": {
     "slide_type": "-"
    }
   },
   "source": [
    "_fpl web scraping_\n",
    "\n",
    "This notebook has an example of web scraping.\n",
    "I'm using it to learn how to work with notebook"
   ]
  },
  {
   "cell_type": "code",
   "execution_count": 4,
   "id": "bibliographic-albany",
   "metadata": {
    "autoscroll": false,
    "collapsed": false,
    "ein.hycell": false,
    "ein.tags": "worksheet-0",
    "slideshow": {
     "slide_type": "-"
    }
   },
   "outputs": [
    {
     "name": "stdout",
     "output_type": "stream",
     "text": [
      "MCI 19 12 5 2\n",
      "MUN 20 12 4 4\n",
      "LEI 20 12 3 5\n",
      "WHU 20 10 5 5\n",
      "LIV 19 9 7 3\n",
      "TOT 18 9 6 3\n",
      "EVE 18 10 3 5\n",
      "CHE 20 8 6 6\n",
      "ARS 20 9 3 8\n",
      "AVL 18 9 2 7\n",
      "SOU 19 8 5 6\n",
      "LEE 19 8 2 9\n",
      "WOL 20 6 5 9\n",
      "CRY 20 6 5 9\n",
      "BUR 19 6 4 9\n",
      "NEW 20 5 4 11\n",
      "BHA 20 3 9 8\n",
      "FUL 19 2 7 10\n",
      "WBA 20 2 5 13\n",
      "SHU 20 2 2 16\n"
     ]
    }
   ],
   "source": [
    "from urllib.request import urlopen as uReq\n",
    "from bs4 import BeautifulSoup as soup\n",
    "\n",
    "my_url=\"https://www.premierleague.com/tables\"\n",
    "uClient = uReq(my_url)\n",
    "page_html = uClient.read()\n",
    "\n",
    "uClient.close()\n",
    "\n",
    "page_soup = soup(page_html, \"html.parser\")\n",
    "\n",
    "\n",
    "# tableBodyContainer isPL\n",
    "\n",
    "teams = page_soup.findAll(\"tr\", {\"data-filtered-entry-size\":\"20\"})\n",
    "for t in teams:\n",
    "    short = t.find(\"span\", {\"class\":\"short\"})\n",
    "    cols = t.findAll(\"td\")\n",
    "    print(short.text, cols[3].text, cols[4].text, cols[5].text, cols[6].text)\n"
   ]
  },
  {
   "cell_type": "code",
   "execution_count": 3,
   "id": "mobile-footwear",
   "metadata": {
    "autoscroll": false,
    "collapsed": false,
    "ein.hycell": false,
    "ein.tags": "worksheet-0",
    "slideshow": {
     "slide_type": "-"
    }
   },
   "outputs": [],
   "source": []
  }
 ],
 "metadata": {
  "kernelspec": {
   "argv": [
    "/Users/juan/venv-3.8.6/bin/python",
    "-m",
    "ipykernel_launcher",
    "-f",
    "{connection_file}"
   ],
   "display_name": "venv-3.8.6",
   "env": null,
   "interrupt_mode": "signal",
   "language": "python",
   "metadata": null,
   "name": "venv-3.8.6"
  },
  "name": "Untitled1.ipynb"
 },
 "nbformat": 4,
 "nbformat_minor": 5
}
